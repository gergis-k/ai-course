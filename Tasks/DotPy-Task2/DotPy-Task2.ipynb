{
 "cells": [
  {
   "cell_type": "markdown",
   "id": "cb759dc8",
   "metadata": {},
   "source": [
    "**Name**: Gergis Adel Makram\n",
    "\n",
    "**Task Statement**\n",
    "1. *Read this [Dataset](https://github.com/gergis-k/dotpy-ai-course/blob/main/Datasets/start_ups.csv).*\n",
    "2. *Scatter and plot the relation between Marketing Spend and Profit.*\n",
    "3. *Marketing Spend is the X-axis, Profit is the Y-axis.*"
   ]
  },
  {
   "cell_type": "markdown",
   "id": "ea04c28d",
   "metadata": {},
   "source": [
    "**Import required libraries**"
   ]
  },
  {
   "cell_type": "code",
   "execution_count": 1,
   "id": "40f4ee2d",
   "metadata": {},
   "outputs": [],
   "source": [
    "import pandas as pd\n",
    "import matplotlib.pyplot as plt"
   ]
  },
  {
   "cell_type": "markdown",
   "id": "9580aa58",
   "metadata": {},
   "source": [
    "**Load the dataset**"
   ]
  },
  {
   "cell_type": "code",
   "execution_count": 2,
   "id": "033f645a",
   "metadata": {},
   "outputs": [
    {
     "data": {
      "text/html": [
       "<div>\n",
       "<style scoped>\n",
       "    .dataframe tbody tr th:only-of-type {\n",
       "        vertical-align: middle;\n",
       "    }\n",
       "\n",
       "    .dataframe tbody tr th {\n",
       "        vertical-align: top;\n",
       "    }\n",
       "\n",
       "    .dataframe thead th {\n",
       "        text-align: right;\n",
       "    }\n",
       "</style>\n",
       "<table border=\"1\" class=\"dataframe\">\n",
       "  <thead>\n",
       "    <tr style=\"text-align: right;\">\n",
       "      <th></th>\n",
       "      <th>R&amp;D Spend</th>\n",
       "      <th>Administration</th>\n",
       "      <th>Marketing Spend</th>\n",
       "      <th>State</th>\n",
       "      <th>Profit</th>\n",
       "    </tr>\n",
       "  </thead>\n",
       "  <tbody>\n",
       "    <tr>\n",
       "      <th>0</th>\n",
       "      <td>165349.20</td>\n",
       "      <td>136897.80</td>\n",
       "      <td>471784.10</td>\n",
       "      <td>New York</td>\n",
       "      <td>192261.83</td>\n",
       "    </tr>\n",
       "    <tr>\n",
       "      <th>1</th>\n",
       "      <td>162597.70</td>\n",
       "      <td>151377.59</td>\n",
       "      <td>443898.53</td>\n",
       "      <td>California</td>\n",
       "      <td>191792.06</td>\n",
       "    </tr>\n",
       "    <tr>\n",
       "      <th>2</th>\n",
       "      <td>153441.51</td>\n",
       "      <td>101145.55</td>\n",
       "      <td>407934.54</td>\n",
       "      <td>Florida</td>\n",
       "      <td>191050.39</td>\n",
       "    </tr>\n",
       "    <tr>\n",
       "      <th>3</th>\n",
       "      <td>144372.41</td>\n",
       "      <td>118671.85</td>\n",
       "      <td>383199.62</td>\n",
       "      <td>New York</td>\n",
       "      <td>182901.99</td>\n",
       "    </tr>\n",
       "    <tr>\n",
       "      <th>4</th>\n",
       "      <td>142107.34</td>\n",
       "      <td>91391.77</td>\n",
       "      <td>366168.42</td>\n",
       "      <td>Florida</td>\n",
       "      <td>166187.94</td>\n",
       "    </tr>\n",
       "    <tr>\n",
       "      <th>5</th>\n",
       "      <td>131876.90</td>\n",
       "      <td>99814.71</td>\n",
       "      <td>362861.36</td>\n",
       "      <td>New York</td>\n",
       "      <td>156991.12</td>\n",
       "    </tr>\n",
       "    <tr>\n",
       "      <th>6</th>\n",
       "      <td>134615.46</td>\n",
       "      <td>147198.87</td>\n",
       "      <td>127716.82</td>\n",
       "      <td>California</td>\n",
       "      <td>156122.51</td>\n",
       "    </tr>\n",
       "    <tr>\n",
       "      <th>7</th>\n",
       "      <td>130298.13</td>\n",
       "      <td>145530.06</td>\n",
       "      <td>323876.68</td>\n",
       "      <td>Florida</td>\n",
       "      <td>155752.60</td>\n",
       "    </tr>\n",
       "    <tr>\n",
       "      <th>8</th>\n",
       "      <td>120542.52</td>\n",
       "      <td>148718.95</td>\n",
       "      <td>311613.29</td>\n",
       "      <td>New York</td>\n",
       "      <td>152211.77</td>\n",
       "    </tr>\n",
       "    <tr>\n",
       "      <th>9</th>\n",
       "      <td>123334.88</td>\n",
       "      <td>108679.17</td>\n",
       "      <td>304981.62</td>\n",
       "      <td>California</td>\n",
       "      <td>149759.96</td>\n",
       "    </tr>\n",
       "  </tbody>\n",
       "</table>\n",
       "</div>"
      ],
      "text/plain": [
       "   R&D Spend  Administration  Marketing Spend       State     Profit\n",
       "0  165349.20       136897.80        471784.10    New York  192261.83\n",
       "1  162597.70       151377.59        443898.53  California  191792.06\n",
       "2  153441.51       101145.55        407934.54     Florida  191050.39\n",
       "3  144372.41       118671.85        383199.62    New York  182901.99\n",
       "4  142107.34        91391.77        366168.42     Florida  166187.94\n",
       "5  131876.90        99814.71        362861.36    New York  156991.12\n",
       "6  134615.46       147198.87        127716.82  California  156122.51\n",
       "7  130298.13       145530.06        323876.68     Florida  155752.60\n",
       "8  120542.52       148718.95        311613.29    New York  152211.77\n",
       "9  123334.88       108679.17        304981.62  California  149759.96"
      ]
     },
     "execution_count": 2,
     "metadata": {},
     "output_type": "execute_result"
    }
   ],
   "source": [
    "data_frame = pd.read_csv('../Datasets/start_ups.csv')\n",
    "data_frame.head(10)"
   ]
  },
  {
   "cell_type": "code",
   "execution_count": 3,
   "id": "e8767eaf",
   "metadata": {},
   "outputs": [
    {
     "name": "stdout",
     "output_type": "stream",
     "text": [
      "Now, i have the dataset in a variable of type: <class 'pandas.core.frame.DataFrame'>\n"
     ]
    }
   ],
   "source": [
    "# Now, i have the dataset in a variable of type\n",
    "print(f'Now, i have the dataset in a variable of type: {type(data_frame)}')"
   ]
  },
  {
   "cell_type": "markdown",
   "id": "da55f968",
   "metadata": {},
   "source": [
    "**Split, Marketing Spending Column (X) & Profit Column (Y)**"
   ]
  },
  {
   "cell_type": "code",
   "execution_count": 4,
   "id": "b9183923",
   "metadata": {},
   "outputs": [
    {
     "name": "stdout",
     "output_type": "stream",
     "text": [
      "   Marketing Spend\n",
      "0        471784.10\n",
      "1        443898.53\n",
      "2        407934.54\n",
      "3        383199.62\n",
      "4        366168.42\n"
     ]
    }
   ],
   "source": [
    "\"\"\"\n",
    "          col [2, 3[\n",
    "               |\n",
    "               V\n",
    "-------------------------------\n",
    "| 0,0 | 0,1 | 0,2 | 0,3 | 0,4 |\n",
    "-------------------------------\n",
    "| 1,0 | 1,1 | 1,2 | 1,3 | 1,4 |\n",
    "-------------------------------\n",
    "| ... | ... | ... | ... | ... | <- row ([:])\n",
    "-------------------------------\n",
    "\"\"\"\n",
    "X = data_frame.iloc[:, 2:3]\n",
    "print(X.head())"
   ]
  },
  {
   "cell_type": "code",
   "execution_count": 5,
   "id": "e1fc8acc",
   "metadata": {},
   "outputs": [
    {
     "name": "stdout",
     "output_type": "stream",
     "text": [
      "      Profit\n",
      "0  192261.83\n",
      "1  191792.06\n",
      "2  191050.39\n",
      "3  182901.99\n",
      "4  166187.94\n"
     ]
    }
   ],
   "source": [
    "\"\"\"\n",
    "                      col [4, 5[ \n",
    "                           |\n",
    "                           V\n",
    "-------------------------------\n",
    "| 0,0 | 0,1 | 0,2 | 0,3 | 0,4 |\n",
    "-------------------------------\n",
    "| 1,0 | 1,1 | 1,2 | 1,3 | 1,4 |\n",
    "-------------------------------\n",
    "| ... | ... | ... | ... | ... | <- row ([:])\n",
    "-------------------------------\n",
    "\"\"\"\n",
    "Y = data_frame.iloc[:, 4:5] # or data_frame.iloc[:, -1:] or data_frame.iloc[:, 4:]\n",
    "print(Y.head())"
   ]
  },
  {
   "cell_type": "code",
   "execution_count": 6,
   "id": "807a5bde",
   "metadata": {},
   "outputs": [
    {
     "name": "stdout",
     "output_type": "stream",
     "text": [
      "X, Y still <class 'pandas.core.frame.DataFrame'> type\n"
     ]
    }
   ],
   "source": [
    "# X, Y still\n",
    "print(f'X, Y still {type(data_frame)} type')"
   ]
  },
  {
   "cell_type": "markdown",
   "id": "778d7929",
   "metadata": {},
   "source": [
    "**Check the data to avoid getting an error**"
   ]
  },
  {
   "cell_type": "code",
   "execution_count": 7,
   "id": "0c17d526",
   "metadata": {},
   "outputs": [
    {
     "name": "stdout",
     "output_type": "stream",
     "text": [
      "Marketing Spend    50\n",
      "dtype: int64\n",
      "\n",
      "Profit    50\n",
      "dtype: int64\n"
     ]
    }
   ],
   "source": [
    "print(X.count())\n",
    "print()\n",
    "print(Y.count())"
   ]
  },
  {
   "cell_type": "markdown",
   "id": "472514b2",
   "metadata": {},
   "source": [
    "## **Scatter**"
   ]
  },
  {
   "cell_type": "code",
   "execution_count": 8,
   "id": "7c3561dc",
   "metadata": {},
   "outputs": [
    {
     "data": {
      "image/png": "[encoded data removed]",
      "text/plain": [
       "<Figure size 432x288 with 1 Axes>"
      ]
     },
     "metadata": {
      "needs_background": "light"
     },
     "output_type": "display_data"
    }
   ],
   "source": [
    "plt.scatter(X, Y)\n",
    "plt.xlabel(\"Marketing Spending\")\n",
    "plt.ylabel(\"Profit\")\n",
    "plt.show()"
   ]
  },
  {
   "cell_type": "markdown",
   "id": "3e8a9bb4",
   "metadata": {},
   "source": [
    "## **Plot**"
   ]
  },
  {
   "cell_type": "code",
   "execution_count": 9,
   "id": "76742261",
   "metadata": {},
   "outputs": [
    {
     "data": {
      "image/png": "[encoded data removed]",
      "text/plain": [
       "<Figure size 432x288 with 1 Axes>"
      ]
     },
     "metadata": {
      "needs_background": "light"
     },
     "output_type": "display_data"
    }
   ],
   "source": [
    "plt.plot(X, Y)\n",
    "plt.xlabel(\"Marketing Spending\")\n",
    "plt.ylabel(\"Profit\")\n",
    "plt.show()"
   ]
  },
  {
   "cell_type": "markdown",
   "id": "27e27ed9",
   "metadata": {},
   "source": [
    "## **Thanks for watching**"
   ]
  }
 ],
 "metadata": {
  "kernelspec": {
   "display_name": "Python 3 (ipykernel)",
   "language": "python",
   "name": "python3"
  },
  "language_info": {
   "codemirror_mode": {
    "name": "ipython",
    "version": 3
   },
   "file_extension": ".py",
   "mimetype": "text/x-python",
   "name": "python",
   "nbconvert_exporter": "python",
   "pygments_lexer": "ipython3",
   "version": "3.9.7"
  }
 },
 "nbformat": 4,
 "nbformat_minor": 5
}
