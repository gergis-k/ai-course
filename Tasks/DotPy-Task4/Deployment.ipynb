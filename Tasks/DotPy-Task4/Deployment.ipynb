{
 "cells": [
  {
   "cell_type": "code",
   "execution_count": 1,
   "id": "4f68cf90",
   "metadata": {},
   "outputs": [],
   "source": [
    "import pickle\n",
    "model = pickle.load(open('RandomForestModel.sav', 'rb'))"
   ]
  },
  {
   "cell_type": "code",
   "execution_count": 2,
   "id": "5d0ea5c4",
   "metadata": {},
   "outputs": [
    {
     "name": "stdout",
     "output_type": "stream",
     "text": [
      "Enter AT: 11\n",
      "Enter V: 50\n",
      "Enter AP: 1004\n",
      "Enter RH: 98\n"
     ]
    }
   ],
   "source": [
    "AT = float(input('Enter AT: '))\n",
    "V = float(input('Enter V: '))\n",
    "AP = float(input('Enter AP: '))\n",
    "RH = float(input('Enter RH: '))\n",
    "inputs = [[AT, V, AP, RH]]"
   ]
  },
  {
   "cell_type": "code",
   "execution_count": 3,
   "id": "118ace21",
   "metadata": {},
   "outputs": [
    {
     "data": {
      "text/plain": [
       "array([471.81991333])"
      ]
     },
     "execution_count": 3,
     "metadata": {},
     "output_type": "execute_result"
    }
   ],
   "source": [
    "target = model.predict(inputs)\n",
    "target"
   ]
  },
  {
   "cell_type": "markdown",
   "id": "14e97d24",
   "metadata": {},
   "source": [
    "# Good Bye"
   ]
  }
 ],
 "metadata": {
  "kernelspec": {
   "display_name": "Python 3 (ipykernel)",
   "language": "python",
   "name": "python3"
  },
  "language_info": {
   "codemirror_mode": {
    "name": "ipython",
    "version": 3
   },
   "file_extension": ".py",
   "mimetype": "text/x-python",
   "name": "python",
   "nbconvert_exporter": "python",
   "pygments_lexer": "ipython3",
   "version": "3.9.7"
  }
 },
 "nbformat": 4,
 "nbformat_minor": 5
}
