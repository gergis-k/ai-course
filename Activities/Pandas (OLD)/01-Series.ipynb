{
 "cells": [
  {
   "cell_type": "markdown",
   "id": "652c883d",
   "metadata": {},
   "source": [
    "# Import Pandas Library"
   ]
  },
  {
   "cell_type": "code",
   "execution_count": 1,
   "id": "f5d216f2",
   "metadata": {},
   "outputs": [],
   "source": [
    "import pandas as pd"
   ]
  },
  {
   "cell_type": "code",
   "execution_count": 2,
   "id": "920e54be",
   "metadata": {},
   "outputs": [],
   "source": [
    "headers = ['Name', 'Age', 'Weight']\n",
    "values = ['Gergis', 22, 58]\n",
    "\n",
    "# Make a Series\n",
    "my_series = pd.Series(data = values, index = headers)"
   ]
  },
  {
   "cell_type": "code",
   "execution_count": 3,
   "id": "5a4a1ba4",
   "metadata": {},
   "outputs": [
    {
     "data": {
      "text/plain": [
       "Name      Gergis\n",
       "Age           22\n",
       "Weight        58\n",
       "dtype: object"
      ]
     },
     "execution_count": 3,
     "metadata": {},
     "output_type": "execute_result"
    }
   ],
   "source": [
    "my_series"
   ]
  },
  {
   "cell_type": "code",
   "execution_count": 4,
   "id": "f23b5ec2",
   "metadata": {},
   "outputs": [],
   "source": [
    "my_second_series = pd.Series(values)"
   ]
  },
  {
   "cell_type": "code",
   "execution_count": 5,
   "id": "1505185c",
   "metadata": {},
   "outputs": [
    {
     "data": {
      "text/plain": [
       "0    Gergis\n",
       "1        22\n",
       "2        58\n",
       "dtype: object"
      ]
     },
     "execution_count": 5,
     "metadata": {},
     "output_type": "execute_result"
    }
   ],
   "source": [
    "my_second_series"
   ]
  },
  {
   "cell_type": "markdown",
   "id": "e283513d",
   "metadata": {},
   "source": [
    "# Values can be anything, even functions"
   ]
  },
  {
   "cell_type": "code",
   "execution_count": 6,
   "id": "6823f032",
   "metadata": {},
   "outputs": [
    {
     "data": {
      "text/plain": [
       "0                <class 'str'>\n",
       "1    <built-in function print>\n",
       "dtype: object"
      ]
     },
     "execution_count": 6,
     "metadata": {},
     "output_type": "execute_result"
    }
   ],
   "source": [
    "pd.Series([str, print])"
   ]
  },
  {
   "cell_type": "markdown",
   "id": "0a9badee",
   "metadata": {},
   "source": [
    "# Operation"
   ]
  },
  {
   "cell_type": "code",
   "execution_count": 7,
   "id": "8a83a59c",
   "metadata": {},
   "outputs": [],
   "source": [
    "sem_1 = pd.Series(data = [98, 99], index = ['OS1', 'DS'])\n",
    "sem_2 = pd.Series(data = [93, 89, 1], index = ['OS2', 'AL', 'DS'])"
   ]
  },
  {
   "cell_type": "code",
   "execution_count": 8,
   "id": "7761f697",
   "metadata": {},
   "outputs": [
    {
     "data": {
      "text/plain": [
       "OS1    98\n",
       "DS     99\n",
       "dtype: int64"
      ]
     },
     "execution_count": 8,
     "metadata": {},
     "output_type": "execute_result"
    }
   ],
   "source": [
    "sem_1"
   ]
  },
  {
   "cell_type": "code",
   "execution_count": 9,
   "id": "73543a87",
   "metadata": {},
   "outputs": [
    {
     "data": {
      "text/plain": [
       "OS2    93\n",
       "AL     89\n",
       "DS      1\n",
       "dtype: int64"
      ]
     },
     "execution_count": 9,
     "metadata": {},
     "output_type": "execute_result"
    }
   ],
   "source": [
    "sem_2"
   ]
  },
  {
   "cell_type": "code",
   "execution_count": 10,
   "id": "b0a713a3",
   "metadata": {},
   "outputs": [],
   "source": [
    "all_sems = sem_1 + sem_2"
   ]
  },
  {
   "cell_type": "code",
   "execution_count": 11,
   "id": "188e2206",
   "metadata": {
    "scrolled": true
   },
   "outputs": [
    {
     "data": {
      "text/plain": [
       "AL       NaN\n",
       "DS     100.0\n",
       "OS1      NaN\n",
       "OS2      NaN\n",
       "dtype: float64"
      ]
     },
     "execution_count": 11,
     "metadata": {},
     "output_type": "execute_result"
    }
   ],
   "source": [
    "all_sems"
   ]
  },
  {
   "cell_type": "markdown",
   "id": "3f535b84",
   "metadata": {},
   "source": [
    "# Bye"
   ]
  }
 ],
 "metadata": {
  "kernelspec": {
   "display_name": "Python 3 (ipykernel)",
   "language": "python",
   "name": "python3"
  },
  "language_info": {
   "codemirror_mode": {
    "name": "ipython",
    "version": 3
   },
   "file_extension": ".py",
   "mimetype": "text/x-python",
   "name": "python",
   "nbconvert_exporter": "python",
   "pygments_lexer": "ipython3",
   "version": "3.9.7"
  }
 },
 "nbformat": 4,
 "nbformat_minor": 5
}
