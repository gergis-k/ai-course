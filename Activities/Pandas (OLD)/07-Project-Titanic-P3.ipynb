{
 "cells": [
  {
   "cell_type": "code",
   "execution_count": 1,
   "id": "9d095203",
   "metadata": {},
   "outputs": [],
   "source": [
    "import pandas as pd"
   ]
  },
  {
   "cell_type": "code",
   "execution_count": 2,
   "id": "969dfc05",
   "metadata": {},
   "outputs": [
    {
     "data": {
      "text/html": [
       "<div>\n",
       "<style scoped>\n",
       "    .dataframe tbody tr th:only-of-type {\n",
       "        vertical-align: middle;\n",
       "    }\n",
       "\n",
       "    .dataframe tbody tr th {\n",
       "        vertical-align: top;\n",
       "    }\n",
       "\n",
       "    .dataframe thead th {\n",
       "        text-align: right;\n",
       "    }\n",
       "</style>\n",
       "<table border=\"1\" class=\"dataframe\">\n",
       "  <thead>\n",
       "    <tr style=\"text-align: right;\">\n",
       "      <th></th>\n",
       "      <th>pclass</th>\n",
       "      <th>survived</th>\n",
       "      <th>sex</th>\n",
       "      <th>age</th>\n",
       "      <th>sibsp</th>\n",
       "      <th>parch</th>\n",
       "      <th>ticket</th>\n",
       "      <th>cabin</th>\n",
       "      <th>embarked</th>\n",
       "      <th>boat</th>\n",
       "      <th>body</th>\n",
       "    </tr>\n",
       "  </thead>\n",
       "  <tbody>\n",
       "    <tr>\n",
       "      <th>0</th>\n",
       "      <td>1</td>\n",
       "      <td>1</td>\n",
       "      <td>female</td>\n",
       "      <td>29.0</td>\n",
       "      <td>0</td>\n",
       "      <td>0</td>\n",
       "      <td>24160</td>\n",
       "      <td>B5</td>\n",
       "      <td>S</td>\n",
       "      <td>2</td>\n",
       "      <td>NaN</td>\n",
       "    </tr>\n",
       "    <tr>\n",
       "      <th>1</th>\n",
       "      <td>1</td>\n",
       "      <td>0</td>\n",
       "      <td>male</td>\n",
       "      <td>30.0</td>\n",
       "      <td>1</td>\n",
       "      <td>2</td>\n",
       "      <td>113781</td>\n",
       "      <td>C22 C26</td>\n",
       "      <td>S</td>\n",
       "      <td>NaN</td>\n",
       "      <td>135.0</td>\n",
       "    </tr>\n",
       "    <tr>\n",
       "      <th>2</th>\n",
       "      <td>1</td>\n",
       "      <td>0</td>\n",
       "      <td>female</td>\n",
       "      <td>25.0</td>\n",
       "      <td>1</td>\n",
       "      <td>2</td>\n",
       "      <td>113781</td>\n",
       "      <td>C22 C26</td>\n",
       "      <td>S</td>\n",
       "      <td>NaN</td>\n",
       "      <td>NaN</td>\n",
       "    </tr>\n",
       "    <tr>\n",
       "      <th>3</th>\n",
       "      <td>1</td>\n",
       "      <td>1</td>\n",
       "      <td>male</td>\n",
       "      <td>48.0</td>\n",
       "      <td>0</td>\n",
       "      <td>0</td>\n",
       "      <td>19952</td>\n",
       "      <td>E12</td>\n",
       "      <td>S</td>\n",
       "      <td>3</td>\n",
       "      <td>NaN</td>\n",
       "    </tr>\n",
       "    <tr>\n",
       "      <th>4</th>\n",
       "      <td>1</td>\n",
       "      <td>1</td>\n",
       "      <td>female</td>\n",
       "      <td>63.0</td>\n",
       "      <td>1</td>\n",
       "      <td>0</td>\n",
       "      <td>13502</td>\n",
       "      <td>D7</td>\n",
       "      <td>S</td>\n",
       "      <td>10</td>\n",
       "      <td>NaN</td>\n",
       "    </tr>\n",
       "  </tbody>\n",
       "</table>\n",
       "</div>"
      ],
      "text/plain": [
       "   pclass  survived     sex   age  sibsp  parch  ticket    cabin embarked  \\\n",
       "0       1         1  female  29.0      0      0   24160       B5        S   \n",
       "1       1         0    male  30.0      1      2  113781  C22 C26        S   \n",
       "2       1         0  female  25.0      1      2  113781  C22 C26        S   \n",
       "3       1         1    male  48.0      0      0   19952      E12        S   \n",
       "4       1         1  female  63.0      1      0   13502       D7        S   \n",
       "\n",
       "  boat   body  \n",
       "0    2    NaN  \n",
       "1  NaN  135.0  \n",
       "2  NaN    NaN  \n",
       "3    3    NaN  \n",
       "4   10    NaN  "
      ]
     },
     "execution_count": 2,
     "metadata": {},
     "output_type": "execute_result"
    }
   ],
   "source": [
    "df = pd.read_excel('Datasets/output2.xlsx')\n",
    "df.head()"
   ]
  },
  {
   "cell_type": "markdown",
   "id": "665c22ee",
   "metadata": {},
   "source": [
    "# I'm Alive"
   ]
  },
  {
   "cell_type": "code",
   "execution_count": 3,
   "id": "f309c833",
   "metadata": {},
   "outputs": [
    {
     "data": {
      "text/plain": [
       "array([1, 0], dtype=int64)"
      ]
     },
     "execution_count": 3,
     "metadata": {},
     "output_type": "execute_result"
    }
   ],
   "source": [
    "df['survived'].unique()"
   ]
  },
  {
   "cell_type": "code",
   "execution_count": 4,
   "id": "b44f55f2",
   "metadata": {},
   "outputs": [
    {
     "data": {
      "text/plain": [
       "0    794\n",
       "1    474\n",
       "Name: survived, dtype: int64"
      ]
     },
     "execution_count": 4,
     "metadata": {},
     "output_type": "execute_result"
    }
   ],
   "source": [
    "df['survived'].value_counts()"
   ]
  },
  {
   "cell_type": "markdown",
   "id": "45c80a1d",
   "metadata": {},
   "source": [
    "# The number of men who survived"
   ]
  },
  {
   "cell_type": "code",
   "execution_count": 5,
   "id": "1206a2fc",
   "metadata": {},
   "outputs": [],
   "source": [
    "men_only = df[df['sex'] == 'male']"
   ]
  },
  {
   "cell_type": "code",
   "execution_count": 6,
   "id": "2bdf44e1",
   "metadata": {},
   "outputs": [
    {
     "data": {
      "text/plain": [
       "(821, 11)"
      ]
     },
     "execution_count": 6,
     "metadata": {},
     "output_type": "execute_result"
    }
   ],
   "source": [
    "men_only.shape"
   ]
  },
  {
   "cell_type": "code",
   "execution_count": 7,
   "id": "9ababe93",
   "metadata": {},
   "outputs": [],
   "source": [
    "survived = men_only[men_only['survived'] == 1]"
   ]
  },
  {
   "cell_type": "code",
   "execution_count": 8,
   "id": "59d9779d",
   "metadata": {},
   "outputs": [
    {
     "data": {
      "text/plain": [
       "(146, 11)"
      ]
     },
     "execution_count": 8,
     "metadata": {},
     "output_type": "execute_result"
    }
   ],
   "source": [
    "survived.shape"
   ]
  },
  {
   "cell_type": "code",
   "execution_count": 9,
   "id": "8fe47220",
   "metadata": {},
   "outputs": [],
   "source": [
    "men_survived_percentage = (survived.shape[0] / men_only.shape[0]) * 100"
   ]
  },
  {
   "cell_type": "code",
   "execution_count": 10,
   "id": "235066b4",
   "metadata": {},
   "outputs": [
    {
     "name": "stdout",
     "output_type": "stream",
     "text": [
      "Percentage of men who survived: 17.78%\n"
     ]
    }
   ],
   "source": [
    "print('Percentage of men who survived: {:.2f}%'.format(men_survived_percentage))"
   ]
  },
  {
   "cell_type": "markdown",
   "id": "f69247d9",
   "metadata": {},
   "source": [
    "# Pretty Output"
   ]
  },
  {
   "cell_type": "code",
   "execution_count": 11,
   "id": "cde0b373",
   "metadata": {},
   "outputs": [],
   "source": [
    "def Calc(s = 1):\n",
    "    for gen in df['sex'].unique():\n",
    "        gen_df = df[df['sex'] == gen]\n",
    "        gen_survived = gen_df[gen_df['survived'] == s]\n",
    "        gen_survived_percentage = (gen_survived.shape[0] / gen_df.shape[0]) * 100\n",
    "        msg = 'survived'\n",
    "        if s == 0:\n",
    "            msg = 'non-survived'\n",
    "        print('Percentage of {} who {}: {:.2f}%'.format(gen, msg, gen_survived_percentage))"
   ]
  },
  {
   "cell_type": "code",
   "execution_count": 12,
   "id": "cc032075",
   "metadata": {},
   "outputs": [
    {
     "name": "stdout",
     "output_type": "stream",
     "text": [
      "Percentage of female who survived: 73.38%\n",
      "Percentage of male who survived: 17.78%\n"
     ]
    }
   ],
   "source": [
    "Calc(s = 1)"
   ]
  },
  {
   "cell_type": "code",
   "execution_count": 13,
   "id": "d89a6f78",
   "metadata": {},
   "outputs": [
    {
     "name": "stdout",
     "output_type": "stream",
     "text": [
      "Percentage of female who non-survived: 26.62%\n",
      "Percentage of male who non-survived: 82.22%\n"
     ]
    }
   ],
   "source": [
    "Calc(s = 0)"
   ]
  },
  {
   "cell_type": "markdown",
   "id": "30c07df2",
   "metadata": {},
   "source": [
    "# PClass"
   ]
  },
  {
   "cell_type": "code",
   "execution_count": 14,
   "id": "b0ce7aed",
   "metadata": {},
   "outputs": [
    {
     "name": "stdout",
     "output_type": "stream",
     "text": [
      "======\n",
      "Class:  1\n",
      "Count:  321\n",
      "Survived:  61.99 %\n",
      "======\n",
      "Class:  2\n",
      "Count:  264\n",
      "Survived:  40.15 %\n",
      "======\n",
      "Class:  3\n",
      "Count:  683\n",
      "Survived:  24.74 %\n"
     ]
    }
   ],
   "source": [
    "def PClass():\n",
    "    for x in df['pclass'].unique():\n",
    "        x_df = df[df['pclass'] == x]\n",
    "        sur = x_df[x_df['survived'] == 1]\n",
    "        x_survived_percentage = (sur.shape[0] / x_df.shape[0]) * 100\n",
    "        print('======')\n",
    "        print('Class: ', x)\n",
    "        print('Count: ', x_df.shape[0])\n",
    "        print('Survived: ', '%.2f' % x_survived_percentage, '%')\n",
    "PClass()"
   ]
  },
  {
   "cell_type": "markdown",
   "id": "94fd6ced",
   "metadata": {},
   "source": [
    "# Convert `Ages` to `Categorical`"
   ]
  },
  {
   "cell_type": "code",
   "execution_count": 15,
   "id": "d3e22968",
   "metadata": {},
   "outputs": [],
   "source": [
    "df2 = df.copy()"
   ]
  },
  {
   "cell_type": "code",
   "execution_count": 16,
   "id": "e85d02ec",
   "metadata": {},
   "outputs": [],
   "source": [
    "def convert_age_to_categorical(age):\n",
    "    if age < 4:\n",
    "        return 0 # baby\n",
    "    elif age < 10:\n",
    "        return 1 # kid or child\n",
    "    elif age < 21:\n",
    "        return 2 # teen\n",
    "    elif age < 33:\n",
    "        return 3 # young adult\n",
    "    elif age < 50:\n",
    "        return 4 # adult\n",
    "    return 5 # elder\n",
    "age_cats = {0:'baby', 1:'child', 2:'teen', 3:'young adult', 4:'adult', 5:'elder'}\n",
    "df2['age_phase'] = df2['age'].apply(convert_age_to_categorical)\n",
    "df2['age_phase'] = df2['age_phase'].map(age_cats)"
   ]
  },
  {
   "cell_type": "code",
   "execution_count": 17,
   "id": "0f4bf059",
   "metadata": {},
   "outputs": [
    {
     "data": {
      "text/html": [
       "<div>\n",
       "<style scoped>\n",
       "    .dataframe tbody tr th:only-of-type {\n",
       "        vertical-align: middle;\n",
       "    }\n",
       "\n",
       "    .dataframe tbody tr th {\n",
       "        vertical-align: top;\n",
       "    }\n",
       "\n",
       "    .dataframe thead th {\n",
       "        text-align: right;\n",
       "    }\n",
       "</style>\n",
       "<table border=\"1\" class=\"dataframe\">\n",
       "  <thead>\n",
       "    <tr style=\"text-align: right;\">\n",
       "      <th></th>\n",
       "      <th>pclass</th>\n",
       "      <th>survived</th>\n",
       "      <th>sex</th>\n",
       "      <th>age</th>\n",
       "      <th>sibsp</th>\n",
       "      <th>parch</th>\n",
       "      <th>ticket</th>\n",
       "      <th>cabin</th>\n",
       "      <th>embarked</th>\n",
       "      <th>boat</th>\n",
       "      <th>body</th>\n",
       "      <th>age_phase</th>\n",
       "    </tr>\n",
       "  </thead>\n",
       "  <tbody>\n",
       "    <tr>\n",
       "      <th>0</th>\n",
       "      <td>1</td>\n",
       "      <td>1</td>\n",
       "      <td>female</td>\n",
       "      <td>29.0</td>\n",
       "      <td>0</td>\n",
       "      <td>0</td>\n",
       "      <td>24160</td>\n",
       "      <td>B5</td>\n",
       "      <td>S</td>\n",
       "      <td>2</td>\n",
       "      <td>NaN</td>\n",
       "      <td>young adult</td>\n",
       "    </tr>\n",
       "    <tr>\n",
       "      <th>1</th>\n",
       "      <td>1</td>\n",
       "      <td>0</td>\n",
       "      <td>male</td>\n",
       "      <td>30.0</td>\n",
       "      <td>1</td>\n",
       "      <td>2</td>\n",
       "      <td>113781</td>\n",
       "      <td>C22 C26</td>\n",
       "      <td>S</td>\n",
       "      <td>NaN</td>\n",
       "      <td>135.0</td>\n",
       "      <td>young adult</td>\n",
       "    </tr>\n",
       "    <tr>\n",
       "      <th>2</th>\n",
       "      <td>1</td>\n",
       "      <td>0</td>\n",
       "      <td>female</td>\n",
       "      <td>25.0</td>\n",
       "      <td>1</td>\n",
       "      <td>2</td>\n",
       "      <td>113781</td>\n",
       "      <td>C22 C26</td>\n",
       "      <td>S</td>\n",
       "      <td>NaN</td>\n",
       "      <td>NaN</td>\n",
       "      <td>young adult</td>\n",
       "    </tr>\n",
       "    <tr>\n",
       "      <th>3</th>\n",
       "      <td>1</td>\n",
       "      <td>1</td>\n",
       "      <td>male</td>\n",
       "      <td>48.0</td>\n",
       "      <td>0</td>\n",
       "      <td>0</td>\n",
       "      <td>19952</td>\n",
       "      <td>E12</td>\n",
       "      <td>S</td>\n",
       "      <td>3</td>\n",
       "      <td>NaN</td>\n",
       "      <td>adult</td>\n",
       "    </tr>\n",
       "    <tr>\n",
       "      <th>4</th>\n",
       "      <td>1</td>\n",
       "      <td>1</td>\n",
       "      <td>female</td>\n",
       "      <td>63.0</td>\n",
       "      <td>1</td>\n",
       "      <td>0</td>\n",
       "      <td>13502</td>\n",
       "      <td>D7</td>\n",
       "      <td>S</td>\n",
       "      <td>10</td>\n",
       "      <td>NaN</td>\n",
       "      <td>elder</td>\n",
       "    </tr>\n",
       "  </tbody>\n",
       "</table>\n",
       "</div>"
      ],
      "text/plain": [
       "   pclass  survived     sex   age  sibsp  parch  ticket    cabin embarked  \\\n",
       "0       1         1  female  29.0      0      0   24160       B5        S   \n",
       "1       1         0    male  30.0      1      2  113781  C22 C26        S   \n",
       "2       1         0  female  25.0      1      2  113781  C22 C26        S   \n",
       "3       1         1    male  48.0      0      0   19952      E12        S   \n",
       "4       1         1  female  63.0      1      0   13502       D7        S   \n",
       "\n",
       "  boat   body    age_phase  \n",
       "0    2    NaN  young adult  \n",
       "1  NaN  135.0  young adult  \n",
       "2  NaN    NaN  young adult  \n",
       "3    3    NaN        adult  \n",
       "4   10    NaN        elder  "
      ]
     },
     "execution_count": 17,
     "metadata": {},
     "output_type": "execute_result"
    }
   ],
   "source": [
    "df2.head()"
   ]
  },
  {
   "cell_type": "code",
   "execution_count": 18,
   "id": "730e8020",
   "metadata": {},
   "outputs": [],
   "source": [
    "df2.to_excel(\"Datasets/output3.xlsx\", index = False)"
   ]
  },
  {
   "cell_type": "markdown",
   "id": "57ab4864",
   "metadata": {},
   "source": [
    "# Bye"
   ]
  }
 ],
 "metadata": {
  "kernelspec": {
   "display_name": "Python 3 (ipykernel)",
   "language": "python",
   "name": "python3"
  },
  "language_info": {
   "codemirror_mode": {
    "name": "ipython",
    "version": 3
   },
   "file_extension": ".py",
   "mimetype": "text/x-python",
   "name": "python",
   "nbconvert_exporter": "python",
   "pygments_lexer": "ipython3",
   "version": "3.9.7"
  }
 },
 "nbformat": 4,
 "nbformat_minor": 5
}
