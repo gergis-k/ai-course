{
 "cells": [
  {
   "cell_type": "markdown",
   "id": "95240aec",
   "metadata": {},
   "source": [
    "# Load the dataset"
   ]
  },
  {
   "cell_type": "code",
   "execution_count": null,
   "id": "4ba10292",
   "metadata": {},
   "outputs": [],
   "source": [
    "import pandas as pd\n",
    "data = pd.read_csv('Datasets/missing.csv', na_values=['?'])\n",
    "data.head()"
   ]
  },
  {
   "cell_type": "markdown",
   "id": "60bce19b",
   "metadata": {},
   "source": [
    "---"
   ]
  },
  {
   "cell_type": "markdown",
   "id": "473433bb",
   "metadata": {},
   "source": [
    "# Check for missing values"
   ]
  },
  {
   "cell_type": "code",
   "execution_count": null,
   "id": "06400ba6",
   "metadata": {},
   "outputs": [],
   "source": [
    "data.isnull().sum()"
   ]
  },
  {
   "cell_type": "markdown",
   "id": "04897295",
   "metadata": {},
   "source": [
    "---"
   ]
  },
  {
   "cell_type": "markdown",
   "id": "85971b43",
   "metadata": {},
   "source": [
    "# Single imputation: Fill with mean, median of column."
   ]
  },
  {
   "cell_type": "markdown",
   "id": "9112f032",
   "metadata": {},
   "source": [
    "## 1. Fillna()"
   ]
  },
  {
   "cell_type": "code",
   "execution_count": null,
   "id": "8dfe6a8b",
   "metadata": {},
   "outputs": [],
   "source": [
    "import numpy as np\n",
    "from statistics import mode\n",
    "df = data.copy()"
   ]
  },
  {
   "cell_type": "code",
   "execution_count": null,
   "id": "38e9657d",
   "metadata": {},
   "outputs": [],
   "source": [
    "# Numerical values\n",
    "mean_of_CPR_column = np.mean(df.CPR)\n",
    "df['CPR'].fillna(mean_of_CPR_column, inplace=True)"
   ]
  },
  {
   "cell_type": "code",
   "execution_count": null,
   "id": "f449607d",
   "metadata": {},
   "outputs": [],
   "source": [
    "# Categorical values\n",
    "mode_of_Level_column = mode(df['Level'])\n",
    "df['Level'] = df['Level'].fillna(value=mode_of_Level_column)"
   ]
  },
  {
   "cell_type": "markdown",
   "id": "4e98745a",
   "metadata": {},
   "source": [
    "## 2. SimpleImputer (sklearn)"
   ]
  },
  {
   "cell_type": "code",
   "execution_count": null,
   "id": "cdbd716c",
   "metadata": {},
   "outputs": [],
   "source": [
    "from sklearn.impute import SimpleImputer\n",
    "df2 = data.copy()"
   ]
  },
  {
   "cell_type": "code",
   "execution_count": null,
   "id": "9fb0c501",
   "metadata": {},
   "outputs": [],
   "source": [
    "# Numerical values\n",
    "imputer_num = SimpleImputer(strategy='mean')\n",
    "df2[['CPR']] = imputer_num.fit_transform(df2[['CPR']])"
   ]
  },
  {
   "cell_type": "code",
   "execution_count": null,
   "id": "d32dd8a3",
   "metadata": {},
   "outputs": [],
   "source": [
    "# Categorical values\n",
    "imputer_cat = SimpleImputer(strategy='most_frequent')\n",
    "df2[['Level']] = imputer_cat.fit_transform(df2[['Level']])"
   ]
  },
  {
   "cell_type": "markdown",
   "id": "48868a03",
   "metadata": {},
   "source": [
    "---"
   ]
  },
  {
   "cell_type": "markdown",
   "id": "5bb5f695",
   "metadata": {},
   "source": [
    "# Multiple imputation: Model other missing values and fill with what your model finds."
   ]
  },
  {
   "cell_type": "markdown",
   "id": "cf8290eb",
   "metadata": {},
   "source": [
    "## 1. IterativeImputer (sklearn)"
   ]
  },
  {
   "cell_type": "code",
   "execution_count": null,
   "id": "01af190d",
   "metadata": {},
   "outputs": [],
   "source": [
    "from sklearn.experimental import enable_iterative_imputer\n",
    "from sklearn.impute import IterativeImputer\n",
    "df3 = data.copy()"
   ]
  },
  {
   "cell_type": "code",
   "execution_count": null,
   "id": "937941fa",
   "metadata": {},
   "outputs": [],
   "source": [
    "from sklearn.ensemble import RandomForestRegressor\n",
    "from sklearn.linear_model import LinearRegression\n",
    "itr = IterativeImputer(estimator=LinearRegression())\n",
    "df3[['Units', 'Connectivity']] = itr.fit_transform(df3[['Units', 'Connectivity']])"
   ]
  },
  {
   "cell_type": "markdown",
   "id": "045c1049",
   "metadata": {},
   "source": [
    "---"
   ]
  },
  {
   "cell_type": "markdown",
   "id": "7563c54e",
   "metadata": {},
   "source": [
    "# KNN (k-nearest neighbors): Fill data with a value from another example which is similar."
   ]
  },
  {
   "cell_type": "markdown",
   "id": "31051007",
   "metadata": {},
   "source": [
    "## 1. KNNImputer (sklearn)"
   ]
  },
  {
   "cell_type": "code",
   "execution_count": null,
   "id": "be60e3f1",
   "metadata": {},
   "outputs": [],
   "source": [
    "from sklearn.impute import KNNImputer\n",
    "df4 = data.copy()"
   ]
  },
  {
   "cell_type": "code",
   "execution_count": null,
   "id": "bb78bac7",
   "metadata": {},
   "outputs": [],
   "source": [
    "knn_imp = KNNImputer(n_neighbors=7)\n",
    "df4[['Units', 'Connectivity']] = knn_imp.fit_transform(df4[['Units', 'Connectivity']])"
   ]
  },
  {
   "cell_type": "markdown",
   "id": "ca515c4c",
   "metadata": {},
   "source": [
    "---"
   ]
  },
  {
   "cell_type": "markdown",
   "id": "9cbd0f38",
   "metadata": {},
   "source": [
    "# Delete the entire rows/columns"
   ]
  },
  {
   "cell_type": "code",
   "execution_count": null,
   "id": "fe484088",
   "metadata": {},
   "outputs": [],
   "source": [
    "df5 = data.copy()"
   ]
  },
  {
   "cell_type": "code",
   "execution_count": null,
   "id": "c59321ff",
   "metadata": {},
   "outputs": [],
   "source": [
    "len(df5)"
   ]
  },
  {
   "cell_type": "code",
   "execution_count": null,
   "id": "f4790ae7",
   "metadata": {},
   "outputs": [],
   "source": [
    "len(df5.dropna())"
   ]
  },
  {
   "cell_type": "code",
   "execution_count": null,
   "id": "cc5e8367",
   "metadata": {},
   "outputs": [],
   "source": [
    "df5[df5.isnull().sum(axis=1) > 2]"
   ]
  },
  {
   "cell_type": "code",
   "execution_count": null,
   "id": "aa9423ca",
   "metadata": {},
   "outputs": [],
   "source": [
    "idx = df5[df5.isnull().sum(axis=1) > 2].index\n",
    "df5.drop(idx, inplace=True)"
   ]
  },
  {
   "cell_type": "code",
   "execution_count": null,
   "id": "6c08ae23",
   "metadata": {},
   "outputs": [],
   "source": [
    "len(df5)"
   ]
  },
  {
   "cell_type": "markdown",
   "id": "778dc474",
   "metadata": {},
   "source": [
    "---"
   ]
  },
  {
   "cell_type": "markdown",
   "id": "0c2e96c5",
   "metadata": {},
   "source": [
    "# Good-bye"
   ]
  }
 ],
 "metadata": {
  "kernelspec": {
   "display_name": "Python 3 (ipykernel)",
   "language": "python",
   "name": "python3"
  },
  "language_info": {
   "codemirror_mode": {
    "name": "ipython",
    "version": 3
   },
   "file_extension": ".py",
   "mimetype": "text/x-python",
   "name": "python",
   "nbconvert_exporter": "python",
   "pygments_lexer": "ipython3",
   "version": "3.9.7"
  }
 },
 "nbformat": 4,
 "nbformat_minor": 5
}
