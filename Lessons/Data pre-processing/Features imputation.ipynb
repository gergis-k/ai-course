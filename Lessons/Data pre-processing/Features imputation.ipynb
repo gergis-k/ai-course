{
 "cells": [
  {
   "cell_type": "markdown",
   "id": "95240aec",
   "metadata": {},
   "source": [
    "# Load the dataset"
   ]
  },
  {
   "cell_type": "code",
   "execution_count": 1,
   "id": "4ba10292",
   "metadata": {},
   "outputs": [
    {
     "data": {
      "text/html": [
       "<div>\n",
       "<style scoped>\n",
       "    .dataframe tbody tr th:only-of-type {\n",
       "        vertical-align: middle;\n",
       "    }\n",
       "\n",
       "    .dataframe tbody tr th {\n",
       "        vertical-align: top;\n",
       "    }\n",
       "\n",
       "    .dataframe thead th {\n",
       "        text-align: right;\n",
       "    }\n",
       "</style>\n",
       "<table border=\"1\" class=\"dataframe\">\n",
       "  <thead>\n",
       "    <tr style=\"text-align: right;\">\n",
       "      <th></th>\n",
       "      <th>Location_code</th>\n",
       "      <th>Level</th>\n",
       "      <th>Frequency</th>\n",
       "      <th>CPR</th>\n",
       "      <th>Units</th>\n",
       "      <th>Connectivity</th>\n",
       "    </tr>\n",
       "  </thead>\n",
       "  <tbody>\n",
       "    <tr>\n",
       "      <th>0</th>\n",
       "      <td>LA</td>\n",
       "      <td>level 4</td>\n",
       "      <td>Monthly</td>\n",
       "      <td>76.0</td>\n",
       "      <td>NaN</td>\n",
       "      <td>979.2</td>\n",
       "    </tr>\n",
       "    <tr>\n",
       "      <th>1</th>\n",
       "      <td>LA</td>\n",
       "      <td>level  1</td>\n",
       "      <td>Weekly</td>\n",
       "      <td>80.0</td>\n",
       "      <td>379.1</td>\n",
       "      <td>1125.2</td>\n",
       "    </tr>\n",
       "    <tr>\n",
       "      <th>2</th>\n",
       "      <td>NaN</td>\n",
       "      <td>level  1</td>\n",
       "      <td>Daily</td>\n",
       "      <td>71.0</td>\n",
       "      <td>131.6</td>\n",
       "      <td>NaN</td>\n",
       "    </tr>\n",
       "    <tr>\n",
       "      <th>3</th>\n",
       "      <td>TL</td>\n",
       "      <td>level 4</td>\n",
       "      <td>Monthly</td>\n",
       "      <td>32.0</td>\n",
       "      <td>118.1</td>\n",
       "      <td>NaN</td>\n",
       "    </tr>\n",
       "    <tr>\n",
       "      <th>4</th>\n",
       "      <td>TL</td>\n",
       "      <td>level  2</td>\n",
       "      <td>Once</td>\n",
       "      <td>116.0</td>\n",
       "      <td>595.1</td>\n",
       "      <td>1503.2</td>\n",
       "    </tr>\n",
       "  </tbody>\n",
       "</table>\n",
       "</div>"
      ],
      "text/plain": [
       "  Location_code     Level Frequency    CPR  Units  Connectivity\n",
       "0            LA   level 4   Monthly   76.0    NaN         979.2\n",
       "1            LA  level  1    Weekly   80.0  379.1        1125.2\n",
       "2           NaN  level  1     Daily   71.0  131.6           NaN\n",
       "3            TL   level 4   Monthly   32.0  118.1           NaN\n",
       "4            TL  level  2      Once  116.0  595.1        1503.2"
      ]
     },
     "execution_count": 1,
     "metadata": {},
     "output_type": "execute_result"
    }
   ],
   "source": [
    "import pandas as pd\n",
    "data = pd.read_csv('Datasets/missing.csv', na_values=['?'])\n",
    "data.head()"
   ]
  },
  {
   "cell_type": "markdown",
   "id": "473433bb",
   "metadata": {},
   "source": [
    "# Check for missing values"
   ]
  },
  {
   "cell_type": "code",
   "execution_count": 2,
   "id": "06400ba6",
   "metadata": {},
   "outputs": [
    {
     "data": {
      "text/plain": [
       "Location_code    143\n",
       "Level             52\n",
       "Frequency         65\n",
       "CPR               29\n",
       "Units            167\n",
       "Connectivity     214\n",
       "dtype: int64"
      ]
     },
     "execution_count": 2,
     "metadata": {},
     "output_type": "execute_result"
    }
   ],
   "source": [
    "data.isnull().sum()"
   ]
  },
  {
   "cell_type": "markdown",
   "id": "04897295",
   "metadata": {},
   "source": [
    "---"
   ]
  },
  {
   "cell_type": "markdown",
   "id": "85971b43",
   "metadata": {},
   "source": [
    "# Single imputation: Fill with mean, median of column."
   ]
  },
  {
   "cell_type": "markdown",
   "id": "9112f032",
   "metadata": {},
   "source": [
    "## 1. Fillna()"
   ]
  },
  {
   "cell_type": "code",
   "execution_count": 3,
   "id": "8dfe6a8b",
   "metadata": {},
   "outputs": [],
   "source": [
    "import numpy as np\n",
    "from statistics import mode\n",
    "df = data.copy()"
   ]
  },
  {
   "cell_type": "code",
   "execution_count": 4,
   "id": "38e9657d",
   "metadata": {},
   "outputs": [],
   "source": [
    "# Numerical values\n",
    "mean_of_CPR_column = np.mean(df.CPR)\n",
    "df['CPR'].fillna(mean_of_CPR_column, inplace=True)"
   ]
  },
  {
   "cell_type": "code",
   "execution_count": 5,
   "id": "f449607d",
   "metadata": {},
   "outputs": [],
   "source": [
    "# Categorical values\n",
    "mode_of_Level_column = mode(df['Level'])\n",
    "df['Level'] = df['Level'].fillna(value=mode_of_Level_column)"
   ]
  },
  {
   "cell_type": "markdown",
   "id": "4e98745a",
   "metadata": {},
   "source": [
    "## 2. SimpleImputer (sklearn)"
   ]
  },
  {
   "cell_type": "code",
   "execution_count": 6,
   "id": "cdbd716c",
   "metadata": {},
   "outputs": [],
   "source": [
    "from sklearn.impute import SimpleImputer\n",
    "df2 = data.copy()"
   ]
  },
  {
   "cell_type": "code",
   "execution_count": 7,
   "id": "9fb0c501",
   "metadata": {},
   "outputs": [],
   "source": [
    "# Numerical values\n",
    "imputer_num = SimpleImputer(strategy='mean')\n",
    "df2[['CPR']] = imputer_num.fit_transform(df2[['CPR']])"
   ]
  },
  {
   "cell_type": "code",
   "execution_count": 8,
   "id": "d32dd8a3",
   "metadata": {},
   "outputs": [],
   "source": [
    "# Categorical values\n",
    "imputer_cat = SimpleImputer(strategy='most_frequent')\n",
    "df2[['Level']] = imputer_cat.fit_transform(df2[['Level']])"
   ]
  },
  {
   "cell_type": "markdown",
   "id": "48868a03",
   "metadata": {},
   "source": [
    "---"
   ]
  },
  {
   "cell_type": "markdown",
   "id": "5bb5f695",
   "metadata": {},
   "source": [
    "# Multiple imputation: Model other missing values and fill with what your model finds."
   ]
  },
  {
   "cell_type": "markdown",
   "id": "cf8290eb",
   "metadata": {},
   "source": [
    "## 1. IterativeImputer (sklearn)"
   ]
  },
  {
   "cell_type": "code",
   "execution_count": 9,
   "id": "01af190d",
   "metadata": {},
   "outputs": [],
   "source": [
    "from sklearn.experimental import enable_iterative_imputer\n",
    "from sklearn.impute import IterativeImputer\n",
    "df3 = data.copy()"
   ]
  },
  {
   "cell_type": "code",
   "execution_count": 10,
   "id": "937941fa",
   "metadata": {},
   "outputs": [],
   "source": [
    "from sklearn.ensemble import RandomForestRegressor\n",
    "from sklearn.linear_model import LinearRegression\n",
    "itr = IterativeImputer(estimator=LinearRegression())\n",
    "df3[['Units', 'Connectivity']] = itr.fit_transform(df3[['Units', 'Connectivity']])"
   ]
  },
  {
   "cell_type": "markdown",
   "id": "045c1049",
   "metadata": {},
   "source": [
    "---"
   ]
  },
  {
   "cell_type": "markdown",
   "id": "7563c54e",
   "metadata": {},
   "source": [
    "# KNN (k-nearest neighbors): Fill data with a value from another example which is similar."
   ]
  },
  {
   "cell_type": "markdown",
   "id": "31051007",
   "metadata": {},
   "source": [
    "## 1. KNNImputer (sklearn)"
   ]
  },
  {
   "cell_type": "code",
   "execution_count": 11,
   "id": "be60e3f1",
   "metadata": {},
   "outputs": [],
   "source": [
    "from sklearn.impute import KNNImputer\n",
    "df4 = data.copy()"
   ]
  },
  {
   "cell_type": "code",
   "execution_count": 12,
   "id": "bb78bac7",
   "metadata": {},
   "outputs": [],
   "source": [
    "knn_imp = KNNImputer(n_neighbors=7)\n",
    "df4[['Units', 'Connectivity']] = knn_imp.fit_transform(df4[['Units', 'Connectivity']])"
   ]
  },
  {
   "cell_type": "markdown",
   "id": "ca515c4c",
   "metadata": {},
   "source": [
    "---"
   ]
  },
  {
   "cell_type": "markdown",
   "id": "9cbd0f38",
   "metadata": {},
   "source": [
    "# Delete the entire rows/columns"
   ]
  },
  {
   "cell_type": "code",
   "execution_count": 13,
   "id": "fe484088",
   "metadata": {},
   "outputs": [],
   "source": [
    "df5 = data.copy()"
   ]
  },
  {
   "cell_type": "code",
   "execution_count": 14,
   "id": "c59321ff",
   "metadata": {},
   "outputs": [
    {
     "data": {
      "text/plain": [
       "1056"
      ]
     },
     "execution_count": 14,
     "metadata": {},
     "output_type": "execute_result"
    }
   ],
   "source": [
    "len(df5)"
   ]
  },
  {
   "cell_type": "code",
   "execution_count": 15,
   "id": "f4790ae7",
   "metadata": {},
   "outputs": [
    {
     "data": {
      "text/plain": [
       "497"
      ]
     },
     "execution_count": 15,
     "metadata": {},
     "output_type": "execute_result"
    }
   ],
   "source": [
    "len(df5.dropna())"
   ]
  },
  {
   "cell_type": "code",
   "execution_count": 16,
   "id": "cc5e8367",
   "metadata": {},
   "outputs": [
    {
     "data": {
      "text/html": [
       "<div>\n",
       "<style scoped>\n",
       "    .dataframe tbody tr th:only-of-type {\n",
       "        vertical-align: middle;\n",
       "    }\n",
       "\n",
       "    .dataframe tbody tr th {\n",
       "        vertical-align: top;\n",
       "    }\n",
       "\n",
       "    .dataframe thead th {\n",
       "        text-align: right;\n",
       "    }\n",
       "</style>\n",
       "<table border=\"1\" class=\"dataframe\">\n",
       "  <thead>\n",
       "    <tr style=\"text-align: right;\">\n",
       "      <th></th>\n",
       "      <th>Location_code</th>\n",
       "      <th>Level</th>\n",
       "      <th>Frequency</th>\n",
       "      <th>CPR</th>\n",
       "      <th>Units</th>\n",
       "      <th>Connectivity</th>\n",
       "    </tr>\n",
       "  </thead>\n",
       "  <tbody>\n",
       "    <tr>\n",
       "      <th>40</th>\n",
       "      <td>NaN</td>\n",
       "      <td>NaN</td>\n",
       "      <td>NaN</td>\n",
       "      <td>45.0</td>\n",
       "      <td>523.1</td>\n",
       "      <td>NaN</td>\n",
       "    </tr>\n",
       "    <tr>\n",
       "      <th>41</th>\n",
       "      <td>NaN</td>\n",
       "      <td>NaN</td>\n",
       "      <td>NaN</td>\n",
       "      <td>96.0</td>\n",
       "      <td>244.1</td>\n",
       "      <td>746.2</td>\n",
       "    </tr>\n",
       "    <tr>\n",
       "      <th>179</th>\n",
       "      <td>NaN</td>\n",
       "      <td>level  2</td>\n",
       "      <td>NaN</td>\n",
       "      <td>54.0</td>\n",
       "      <td>410.6</td>\n",
       "      <td>NaN</td>\n",
       "    </tr>\n",
       "    <tr>\n",
       "      <th>244</th>\n",
       "      <td>NaN</td>\n",
       "      <td>level 4</td>\n",
       "      <td>NaN</td>\n",
       "      <td>56.0</td>\n",
       "      <td>257.6</td>\n",
       "      <td>NaN</td>\n",
       "    </tr>\n",
       "    <tr>\n",
       "      <th>285</th>\n",
       "      <td>NaN</td>\n",
       "      <td>level  1</td>\n",
       "      <td>Daily</td>\n",
       "      <td>NaN</td>\n",
       "      <td>491.6</td>\n",
       "      <td>NaN</td>\n",
       "    </tr>\n",
       "    <tr>\n",
       "      <th>486</th>\n",
       "      <td>NaN</td>\n",
       "      <td>NaN</td>\n",
       "      <td>NaN</td>\n",
       "      <td>24.0</td>\n",
       "      <td>730.1</td>\n",
       "      <td>1789.2</td>\n",
       "    </tr>\n",
       "    <tr>\n",
       "      <th>510</th>\n",
       "      <td>NaN</td>\n",
       "      <td>level 3</td>\n",
       "      <td>Daily</td>\n",
       "      <td>NaN</td>\n",
       "      <td>NaN</td>\n",
       "      <td>1628.2</td>\n",
       "    </tr>\n",
       "    <tr>\n",
       "      <th>811</th>\n",
       "      <td>GK</td>\n",
       "      <td>NaN</td>\n",
       "      <td>NaN</td>\n",
       "      <td>66.0</td>\n",
       "      <td>460.1</td>\n",
       "      <td>NaN</td>\n",
       "    </tr>\n",
       "    <tr>\n",
       "      <th>886</th>\n",
       "      <td>NaN</td>\n",
       "      <td>NaN</td>\n",
       "      <td>NaN</td>\n",
       "      <td>100.0</td>\n",
       "      <td>451.1</td>\n",
       "      <td>NaN</td>\n",
       "    </tr>\n",
       "  </tbody>\n",
       "</table>\n",
       "</div>"
      ],
      "text/plain": [
       "    Location_code     Level Frequency    CPR  Units  Connectivity\n",
       "40            NaN       NaN       NaN   45.0  523.1           NaN\n",
       "41            NaN       NaN       NaN   96.0  244.1         746.2\n",
       "179           NaN  level  2       NaN   54.0  410.6           NaN\n",
       "244           NaN   level 4       NaN   56.0  257.6           NaN\n",
       "285           NaN  level  1     Daily    NaN  491.6           NaN\n",
       "486           NaN       NaN       NaN   24.0  730.1        1789.2\n",
       "510           NaN   level 3     Daily    NaN    NaN        1628.2\n",
       "811            GK       NaN       NaN   66.0  460.1           NaN\n",
       "886           NaN       NaN       NaN  100.0  451.1           NaN"
      ]
     },
     "execution_count": 16,
     "metadata": {},
     "output_type": "execute_result"
    }
   ],
   "source": [
    "df5[df5.isnull().sum(axis=1) > 2]"
   ]
  },
  {
   "cell_type": "code",
   "execution_count": 17,
   "id": "aa9423ca",
   "metadata": {},
   "outputs": [],
   "source": [
    "idx = df5[df5.isnull().sum(axis=1) > 2].index\n",
    "df5.drop(idx, inplace=True)"
   ]
  },
  {
   "cell_type": "code",
   "execution_count": 18,
   "id": "6c08ae23",
   "metadata": {},
   "outputs": [
    {
     "data": {
      "text/plain": [
       "1047"
      ]
     },
     "execution_count": 18,
     "metadata": {},
     "output_type": "execute_result"
    }
   ],
   "source": [
    "len(df5)"
   ]
  },
  {
   "cell_type": "markdown",
   "id": "778dc474",
   "metadata": {},
   "source": [
    "---"
   ]
  },
  {
   "cell_type": "markdown",
   "id": "0c2e96c5",
   "metadata": {},
   "source": [
    "# Good-bye"
   ]
  }
 ],
 "metadata": {
  "kernelspec": {
   "display_name": "Python 3 (ipykernel)",
   "language": "python",
   "name": "python3"
  },
  "language_info": {
   "codemirror_mode": {
    "name": "ipython",
    "version": 3
   },
   "file_extension": ".py",
   "mimetype": "text/x-python",
   "name": "python",
   "nbconvert_exporter": "python",
   "pygments_lexer": "ipython3",
   "version": "3.9.7"
  }
 },
 "nbformat": 4,
 "nbformat_minor": 5
}
